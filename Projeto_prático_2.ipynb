{
  "nbformat": 4,
  "nbformat_minor": 0,
  "metadata": {
    "colab": {
      "name": "Projeto prático 2.ipynb",
      "provenance": [],
      "authorship_tag": "ABX9TyP5+aeneSWSEY/oEnSfyoMS",
      "include_colab_link": true
    },
    "kernelspec": {
      "name": "python3",
      "display_name": "Python 3"
    }
  },
  "cells": [
    {
      "cell_type": "markdown",
      "metadata": {
        "id": "view-in-github",
        "colab_type": "text"
      },
      "source": [
        "<a href=\"https://colab.research.google.com/github/danilo-uea/projeto_pratico_2/blob/master/Projeto_pr%C3%A1tico_2.ipynb\" target=\"_parent\"><img src=\"https://colab.research.google.com/assets/colab-badge.svg\" alt=\"Open In Colab\"/></a>"
      ]
    },
    {
      "cell_type": "code",
      "metadata": {
        "id": "EgEmVYDJ4EMF",
        "colab_type": "code",
        "colab": {}
      },
      "source": [
        "import numpy as np"
      ],
      "execution_count": 1,
      "outputs": []
    },
    {
      "cell_type": "code",
      "metadata": {
        "id": "ukgZ2QEpKWwi",
        "colab_type": "code",
        "colab": {
          "base_uri": "https://localhost:8080/",
          "height": 187
        },
        "outputId": "26313c00-8c3b-4936-8eca-5acd10600c5a"
      },
      "source": [
        "filename = '/content/drive/My Drive/dados_colab/Redes Neurais/PP2/dataAll.txt'\n",
        "dt = np.dtype([('um', float),('dois', float),('result', float)])\n",
        "data = np.fromfile(filename, dtype=dt)\n",
        "for x in range (10):\n",
        "  print(data[x])"
      ],
      "execution_count": 59,
      "outputs": [
        {
          "output_type": "stream",
          "text": [
            "(-363.7884, 244.1423, 0.)\n",
            "(328.7572, -256.7658, 1.)\n",
            "(-164.9827, 613.2164, 0.)\n",
            "(536.5905, 764.9575, 0.)\n",
            "(314.2297, 343.8375, 0.)\n",
            "(-87.6395, -306.9783, 1.)\n",
            "(-172.0622, -500.5087, 1.)\n",
            "(727.9602, 358.2956, 1.)\n",
            "(752.3574, 268.3682, 1.)\n",
            "(685.6276, -833.4677, 1.)\n"
          ],
          "name": "stdout"
        }
      ]
    }
  ]
}